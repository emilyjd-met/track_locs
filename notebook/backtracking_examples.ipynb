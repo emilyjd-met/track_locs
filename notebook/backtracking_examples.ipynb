{
 "cells": [
  {
   "cell_type": "markdown",
   "metadata": {},
   "source": [
    "# Setup"
   ]
  },
  {
   "cell_type": "markdown",
   "metadata": {},
   "source": [
    "## Imports and fixed paths"
   ]
  },
  {
   "cell_type": "code",
   "execution_count": null,
   "metadata": {},
   "outputs": [],
   "source": [
    "# Imports\n",
    "\n",
    "import os\n",
    "import sys\n",
    "import math\n",
    "import random\n",
    "import numpy as np\n",
    "from netCDF4 import Dataset\n",
    "from datetime import datetime, timedelta\n",
    "from dateutil.relativedelta import relativedelta\n",
    "import xarray as xr\n",
    "import pandas as pd\n",
    "from importlib import reload "
   ]
  },
  {
   "cell_type": "code",
   "execution_count": null,
   "metadata": {},
   "outputs": [],
   "source": [
    "#Paths\n",
    "\n",
    "# Getting the path of the notebook (NOTE: not totally safe)\n",
    "localdir = os.getcwd()\n",
    "\n",
    "# Adding the code directory to the path (one directory up from notebook directory and then src/)\n",
    "codedir = os.path.join(os.path.dirname(localdir), 'src')\n",
    "\n",
    "sys.path.append(codedir)\n",
    "from track_loc import track_loc\n",
    "from plot_trajectories import plot_traj"
   ]
  },
  {
   "cell_type": "markdown",
   "metadata": {},
   "source": [
    "## User-defined parameters"
   ]
  },
  {
   "cell_type": "code",
   "execution_count": null,
   "metadata": {},
   "outputs": [],
   "source": [
    "# Trajectory parameters\n",
    "json_file = 'sudarco_cruises.json'\n",
    "json_data_2022mo = 'AO2022_moorings'\n",
    "json_data_2022st = 'AO2022_ice_stations'\n",
    "json_data_2023st = 'AO2023_ice_stations'\n",
    "period = '5y'\n",
    "\n",
    "# Defining and creating an output directory\n",
    "outdir = os.path.join(localdir, 'output')\n",
    "if not os.path.isdir(outdir):\n",
    "    os.makedirs(outdir)"
   ]
  },
  {
   "cell_type": "markdown",
   "metadata": {},
   "source": [
    "## Plotting parameters\n",
    "\n",
    "Here, the paths of the known good output (KGO) comparison files are defined."
   ]
  },
  {
   "cell_type": "code",
   "execution_count": null,
   "metadata": {},
   "outputs": [],
   "source": [
    "# Plotting parameters\n",
    "\n",
    "kgo_2022mo = os.path.join(codedir, 'test_data', 'backtrack_loc_AO2022_moorings_2d_20210807-20220807.nc')\n",
    "kgo_2022st = os.path.join(codedir, 'test_data', 'backtrack_loc_AO2022_ice_stations_1d_20220729.nc')\n",
    "kgo_2023st = os.path.join(codedir, 'test_data', 'backtrack_loc_AO2023_ice_stations_1d_20230606.nc')"
   ]
  },
  {
   "cell_type": "markdown",
   "metadata": {},
   "source": [
    "# Backtracking"
   ]
  },
  {
   "cell_type": "markdown",
   "metadata": {},
   "source": [
    "## Ice Stations"
   ]
  },
  {
   "cell_type": "markdown",
   "metadata": {},
   "source": [
    "### Trajectories"
   ]
  },
  {
   "cell_type": "code",
   "execution_count": null,
   "metadata": {},
   "outputs": [],
   "source": [
    "# 2022\n",
    "bt_2022st = track_loc(json_file=json_file, json_data=json_data_2022st, period=period, outname=outdir,\n",
    "                      force=True, verbose=True)"
   ]
  },
  {
   "cell_type": "code",
   "execution_count": null,
   "metadata": {},
   "outputs": [],
   "source": [
    "# 2023\n",
    "bt_2023st = track_loc(json_file=json_file, json_data=json_data_2023st, period=period, outname=outdir,\n",
    "              force=True, verbose=True)"
   ]
  },
  {
   "cell_type": "markdown",
   "metadata": {},
   "source": [
    "### Plotting"
   ]
  },
  {
   "cell_type": "code",
   "execution_count": null,
   "metadata": {},
   "outputs": [],
   "source": [
    "# 2022 Ice Stations\n",
    "plot_traj(bt_2022st, region='ease-nh', colmode='timestep', output=outdir)\n",
    "plot_traj(bt_2022st, region='ease-nh', colmode='id', output=outdir)\n",
    "plot_traj(bt_2022st, region='ease-nh', colmode='myi', output=outdir)\n"
   ]
  },
  {
   "cell_type": "code",
   "execution_count": null,
   "metadata": {
    "scrolled": true
   },
   "outputs": [],
   "source": [
    "# 2023 Ice Stations\n",
    "plot_traj(bt_2023st, region='ease-nh', colmode='timestep', output=outdir)\n",
    "plot_traj(bt_2023st, region='ease-nh', colmode='id', output=outdir)\n",
    "plot_traj(bt_2023st, region='ease-nh', colmode='myi', output=outdir)\n"
   ]
  },
  {
   "cell_type": "markdown",
   "metadata": {},
   "source": [
    "## Moorings"
   ]
  },
  {
   "cell_type": "markdown",
   "metadata": {},
   "source": [
    "### Trajectories"
   ]
  },
  {
   "cell_type": "code",
   "execution_count": null,
   "metadata": {
    "scrolled": true
   },
   "outputs": [],
   "source": [
    "bt_2022mo = track_loc(json_file=json_file, json_data=json_data_2022mo, period=period, outname=outdir,\n",
    "                      force=True, verbose=True)"
   ]
  },
  {
   "cell_type": "markdown",
   "metadata": {},
   "source": [
    "### Plotting"
   ]
  },
  {
   "cell_type": "code",
   "execution_count": null,
   "metadata": {},
   "outputs": [],
   "source": [
    "# Plotting with a 1-month stride (takes a long time to plot every day!)\n",
    "plot_traj(bt_2022mo, region='ease-nh', colmode='enddate', output=outdir, stride='1m')\n",
    "plot_traj(bt_2022mo, region='ease-nh', colmode='timestep', output=outdir, stride='1m')\n",
    "plot_traj(bt_2022mo, region='ease-nh', colmode='id', output=outdir, stride='1m')\n",
    "plot_traj(bt_2022mo, region='ease-nh', colmode='myi', output=outdir, stride='1m')\n"
   ]
  },
  {
   "cell_type": "markdown",
   "metadata": {},
   "source": [
    "# Forward tracking"
   ]
  },
  {
   "cell_type": "markdown",
   "metadata": {},
   "source": [
    "## Ice Stations"
   ]
  },
  {
   "cell_type": "markdown",
   "metadata": {},
   "source": [
    "### Trajectories"
   ]
  },
  {
   "cell_type": "code",
   "execution_count": null,
   "metadata": {},
   "outputs": [],
   "source": [
    "# 2022\n",
    "ft_2022st = track_loc(json_file=json_file, json_data=json_data_2022st, period=period, outname=outdir,\n",
    "                      forwardtrack=True, force=True, verbose=True)"
   ]
  },
  {
   "cell_type": "markdown",
   "metadata": {},
   "source": [
    "### Plotting"
   ]
  },
  {
   "cell_type": "code",
   "execution_count": null,
   "metadata": {},
   "outputs": [],
   "source": [
    "# 2022 Ice Stations\n",
    "plot_traj(ft_2022st, region='ease-nh', colmode='timestep', output=outdir)"
   ]
  },
  {
   "cell_type": "code",
   "execution_count": null,
   "metadata": {},
   "outputs": [],
   "source": []
  }
 ],
 "metadata": {
  "kernelspec": {
   "display_name": "Python 3",
   "language": "python",
   "name": "python3"
  },
  "language_info": {
   "codemirror_mode": {
    "name": "ipython",
    "version": 3
   },
   "file_extension": ".py",
   "mimetype": "text/x-python",
   "name": "python",
   "nbconvert_exporter": "python",
   "pygments_lexer": "ipython3",
   "version": "3.9.13"
  }
 },
 "nbformat": 4,
 "nbformat_minor": 4
}
