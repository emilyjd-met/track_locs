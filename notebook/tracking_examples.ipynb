{
 "cells": [
  {
   "cell_type": "markdown",
   "metadata": {},
   "source": [
    "# Setup"
   ]
  },
  {
   "cell_type": "markdown",
   "metadata": {},
   "source": [
    "## Imports and fixed paths\n",
    "\n",
    "These settings should work as they are without editing."
   ]
  },
  {
   "cell_type": "code",
   "execution_count": null,
   "metadata": {},
   "outputs": [],
   "source": [
    "# Imports\n",
    "\n",
    "import os\n",
    "import sys\n",
    "import math\n",
    "import random\n",
    "import numpy as np\n",
    "from netCDF4 import Dataset\n",
    "from datetime import datetime, timedelta\n",
    "from dateutil.relativedelta import relativedelta\n",
    "import xarray as xr\n",
    "import pandas as pd\n",
    "from importlib import reload "
   ]
  },
  {
   "cell_type": "code",
   "execution_count": null,
   "metadata": {},
   "outputs": [],
   "source": [
    "#Paths\n",
    "\n",
    "# Getting the path of the notebook (NOTE: not totally safe)\n",
    "localdir = os.getcwd()\n",
    "\n",
    "# Adding the code directory to the path (one directory up from notebook directory and then src/)\n",
    "codedir = os.path.join(os.path.dirname(localdir), 'src')\n",
    "\n",
    "sys.path.append(codedir)\n",
    "from track_loc import track_loc\n",
    "from plot_trajectories import plot_traj"
   ]
  },
  {
   "cell_type": "markdown",
   "metadata": {},
   "source": [
    "## User-defined parameters\n",
    "\n",
    "Here, a .json file is specified with at least one dataset giving buoy name, lat, lon and \"enddate\" which is the reference position. If in addition \"firstenddate\" is defined, this dataset is a stationary mooring dataset. Each dataset, which can be composed of an array of ice stations or moorings, has a name.\n",
    "\n",
    "The period states the maximum period over which the ice parcel should be tracked. Note that if the concentration falls below a given threshold (default 15%) for a consecutive number of days (defauly 3), then the trajectory is closed. If all trajectories in the array are closed, then the processing finishes (so note that the code does not often reach 100% processed when tracking).\n",
    "\n",
    "Please see the python code for other parameters which can be set."
   ]
  },
  {
   "cell_type": "code",
   "execution_count": null,
   "metadata": {},
   "outputs": [],
   "source": [
    "# Trajectory parameters\n",
    "json_file = 'sudarco_cruises.json'\n",
    "json_data_2022mo = 'AO2022_moorings'\n",
    "json_data_2022st = 'AO2022_ice_stations'\n",
    "json_data_2023st = 'AO2023_ice_stations'\n",
    "period = '5y'\n",
    "\n",
    "# Defining and creating an output directory\n",
    "outdir = os.path.join(localdir, 'output')\n",
    "if not os.path.isdir(outdir):\n",
    "    os.makedirs(outdir)"
   ]
  },
  {
   "cell_type": "markdown",
   "metadata": {},
   "source": [
    "# Backtracking"
   ]
  },
  {
   "cell_type": "markdown",
   "metadata": {},
   "source": [
    "## Ice Stations\n",
    "\n",
    "Ice stations are any buoys or stations which are on an ice floe and move with the ice. Each ice station gives an individual trajectory.\n",
    "\n",
    "Here, two SUDARCO cruise ice station datasets are tracked, each containing multiple ice stations. \n",
    "\n",
    "Please note, that the processing does not reach 100% is not an error - it means that the trajectories ended due to low ice concentration before the user-defined maximum tracking time was reached.\n",
    "\n",
    "The output of this code is a NetCDF file per dataset."
   ]
  },
  {
   "cell_type": "markdown",
   "metadata": {},
   "source": [
    "### Trajectories"
   ]
  },
  {
   "cell_type": "code",
   "execution_count": null,
   "metadata": {},
   "outputs": [],
   "source": [
    "# 2022\n",
    "bt_2022st = track_loc(json_file=json_file, json_data=json_data_2022st, period=period, outname=outdir,\n",
    "                      force=True, verbose=True)"
   ]
  },
  {
   "cell_type": "code",
   "execution_count": null,
   "metadata": {},
   "outputs": [],
   "source": [
    "# 2023\n",
    "bt_2023st = track_loc(json_file=json_file, json_data=json_data_2023st, period=period, outname=outdir,\n",
    "              force=True, verbose=True)"
   ]
  },
  {
   "cell_type": "markdown",
   "metadata": {},
   "source": [
    "### Plotting\n",
    "\n",
    "This code plots each dataset individually and saves as a PNG file, in addition to showing in the notebook. \n",
    "\n",
    "The colmode parameter refers to how the trajectories are coloured:\n",
    "timestep - a continuous colour range showing the time elapsed in the trajectory.\n",
    "id - a single colour per ice station or mooring.\n",
    "myi - whether the ice is likely first-year ice or multi-year ice (survived one summer melt season).\n",
    "enddate - this is specific to moorings, and shows the reference date for each trajectory."
   ]
  },
  {
   "cell_type": "code",
   "execution_count": null,
   "metadata": {
    "scrolled": true
   },
   "outputs": [],
   "source": [
    "# 2022 Ice Stations\n",
    "plot_traj(bt_2022st, region='ease-nh', colmode='timestep', output=outdir)\n",
    "plot_traj(bt_2022st, region='ease-nh', colmode='id', output=outdir)\n",
    "plot_traj(bt_2022st, region='ease-nh', colmode='myi', output=outdir)\n"
   ]
  },
  {
   "cell_type": "code",
   "execution_count": null,
   "metadata": {
    "scrolled": true
   },
   "outputs": [],
   "source": [
    "# 2023 Ice Stations\n",
    "plot_traj(bt_2023st, region='ease-nh', colmode='timestep', output=outdir)\n",
    "plot_traj(bt_2023st, region='ease-nh', colmode='id', output=outdir)\n",
    "plot_traj(bt_2023st, region='ease-nh', colmode='myi', output=outdir)\n"
   ]
  },
  {
   "cell_type": "code",
   "execution_count": null,
   "metadata": {},
   "outputs": [],
   "source": [
    "# With a background\n",
    "bgf = 'https://thredds.met.no/thredds/dodsC/osisaf/met.no/reprocessed/ice/conc_cra_files/2023/06/ice_conc_nh_ease2-250_icdr-v3p0_202306121200.nc'\n",
    "os.makedirs(os.path.join(outdir, 'bg'), exist_ok=True)\n",
    "plot_traj(bt_2023st, region='ease-nh', colmode='timestep', output=os.path.join(outdir, 'bg'), bg_file=bgf, bg_var='ice_conc')\n"
   ]
  },
  {
   "cell_type": "markdown",
   "metadata": {},
   "source": [
    "## Moorings\n",
    "\n",
    "Moorings are buoys which are fixed at a particular position and do not move with the ice. In this case, two dates are defined, the primary reference date, and a second date which defines a time period over which the ice trajectories are found to find the likely ice origins.\n",
    "\n",
    "Here a SUDARCO 2022 cruise dataset of moorings is used, with two moorings in the array."
   ]
  },
  {
   "cell_type": "markdown",
   "metadata": {},
   "source": [
    "### Trajectories"
   ]
  },
  {
   "cell_type": "code",
   "execution_count": null,
   "metadata": {
    "scrolled": true
   },
   "outputs": [],
   "source": [
    "bt_2022mo = track_loc(json_file=json_file, json_data=json_data_2022mo, period=period, outname=outdir,\n",
    "                      force=True, verbose=True)"
   ]
  },
  {
   "cell_type": "markdown",
   "metadata": {},
   "source": [
    "### Plotting\n",
    "\n",
    "The stride is set here to 1 week. Since the dataset is large, it takes time to plot a whole year of trajectories, and can be easier to interpret with fewer."
   ]
  },
  {
   "cell_type": "code",
   "execution_count": null,
   "metadata": {
    "scrolled": false
   },
   "outputs": [],
   "source": [
    "# Plotting with a 1-month stride (takes a long time to plot every day!)\n",
    "plot_traj(bt_2022mo, region='ease-nh', colmode='enddate', output=outdir, stride='7d')\n",
    "plot_traj(bt_2022mo, region='ease-nh', colmode='timestep', output=outdir, stride='7d')\n",
    "plot_traj(bt_2022mo, region='ease-nh', colmode='id', output=outdir, stride='7d')\n",
    "plot_traj(bt_2022mo, region='ease-nh', colmode='myi', output=outdir, stride='7d')\n"
   ]
  },
  {
   "cell_type": "markdown",
   "metadata": {},
   "source": [
    "# Forward tracking\n",
    "\n",
    "In addition to tracking backwards in time to where the ice likely first froze, it is possible to track forwards in time to where it melts again. This example, also using the SUDARCO 2022 ice stations, shows these ice floes moving down the Fram Strait where they melt."
   ]
  },
  {
   "cell_type": "markdown",
   "metadata": {},
   "source": [
    "## Ice Stations"
   ]
  },
  {
   "cell_type": "markdown",
   "metadata": {},
   "source": [
    "### Trajectories"
   ]
  },
  {
   "cell_type": "code",
   "execution_count": null,
   "metadata": {},
   "outputs": [],
   "source": [
    "# 2022\n",
    "ft_2022st = track_loc(json_file=json_file, json_data=json_data_2022st, period=period, outname=outdir,\n",
    "                      forwardtrack=True, force=True, verbose=True)"
   ]
  },
  {
   "cell_type": "markdown",
   "metadata": {},
   "source": [
    "### Plotting"
   ]
  },
  {
   "cell_type": "code",
   "execution_count": null,
   "metadata": {},
   "outputs": [],
   "source": [
    "# 2022 Ice Stations\n",
    "plot_traj(ft_2022st, region='ease-nh-wide', colmode='timestep', output=outdir)"
   ]
  },
  {
   "cell_type": "code",
   "execution_count": null,
   "metadata": {},
   "outputs": [],
   "source": []
  }
 ],
 "metadata": {
  "kernelspec": {
   "display_name": "Python 3",
   "language": "python",
   "name": "python3"
  },
  "language_info": {
   "codemirror_mode": {
    "name": "ipython",
    "version": 3
   },
   "file_extension": ".py",
   "mimetype": "text/x-python",
   "name": "python",
   "nbconvert_exporter": "python",
   "pygments_lexer": "ipython3",
   "version": "3.9.13"
  }
 },
 "nbformat": 4,
 "nbformat_minor": 4
}
